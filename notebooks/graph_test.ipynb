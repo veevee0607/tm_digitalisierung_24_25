{
 "cells": [
  {
   "cell_type": "code",
   "execution_count": 17,
   "metadata": {},
   "outputs": [
    {
     "data": {
      "application/vnd.jupyter.widget-view+json": {
       "model_id": "ad99532db6044559aeeb655316cb7c69",
       "version_major": 2,
       "version_minor": 0
      },
      "text/plain": [
       "Canvas(height=400, width=600)"
      ]
     },
     "metadata": {},
     "output_type": "display_data"
    }
   ],
   "source": [
    "from ipycanvas import Canvas, hold_canvas\n",
    "import numpy as np\n",
    "import time\n",
    "\n",
    "# Set up canvas dimensions\n",
    "canvas_width = 600\n",
    "canvas_height = 400\n",
    "\n",
    "# Initialize canvas\n",
    "canvas = Canvas(width=canvas_width, height=canvas_height)\n",
    "\n",
    "def draw_coordinate_system(\n",
    "    canvas,\n",
    "    origin,\n",
    "    width, \n",
    "    height, \n",
    "    tick_spacing=40, \n",
    "    tick_size=5\n",
    "):\n",
    "    \"\"\"\n",
    "    origin: tuple(x, y)\n",
    "    width, height: in percentage of cnavas height\n",
    "    \"\"\"\n",
    "\n",
    "    canvas.stroke_style = 'black'\n",
    "\n",
    "    \n",
    "    # Draw y axis first (bottom to top)\n",
    "    # then x axis (left to right)\n",
    "    canvas.stroke_lines(\n",
    "        [(origin[0], origin[1] + height/2),\n",
    "        origin,\n",
    "        (origin[0] + width/2, origin[1])])\n",
    "    \n",
    "    canvas.stroke_lines(\n",
    "        [(origin[0], origin[1] - height/2),\n",
    "        origin,\n",
    "        (origin[0] - width/2, origin[1])])\n",
    "\n",
    "\n",
    "    # # Draw tick marks on X axis\n",
    "    # for i in range(-x_axis_length // 2, x_axis_length // 2, tick_spacing):\n",
    "    #     canvas.begin_path()\n",
    "    #     canvas.move_to(origin_x + i, origin_y - tick_size)\n",
    "    #     canvas.line_to(origin_x + i, origin_y + tick_size)\n",
    "    #     canvas.stroke()\n",
    "    \n",
    "    # # Draw tick marks on Y axis\n",
    "    # for j in range(-y_axis_length // 2, y_axis_length // 2, tick_spacing):\n",
    "    #     canvas.begin_path()\n",
    "    #     canvas.move_to(origin_x - tick_size, origin_y + j)\n",
    "    #     canvas.line_to(origin_x + tick_size, origin_y + j)\n",
    "    #     canvas.stroke()\n",
    "\n",
    "\n",
    "display(canvas)\n",
    "draw_coordinate_system(canvas, origin=(200, 200), height=300, width=300)"
   ]
  }
 ],
 "metadata": {
  "kernelspec": {
   "display_name": "venv",
   "language": "python",
   "name": "python3"
  },
  "language_info": {
   "codemirror_mode": {
    "name": "ipython",
    "version": 3
   },
   "file_extension": ".py",
   "mimetype": "text/x-python",
   "name": "python",
   "nbconvert_exporter": "python",
   "pygments_lexer": "ipython3",
   "version": "3.12.6"
  }
 },
 "nbformat": 4,
 "nbformat_minor": 2
}
