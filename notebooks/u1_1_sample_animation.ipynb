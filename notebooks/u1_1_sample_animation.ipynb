{
 "cells": [
  {
   "cell_type": "code",
   "execution_count": null,
   "metadata": {},
   "outputs": [],
   "source": [
    "%load_ext autoreload\n",
    "%autoreload 2\n",
    "from ipycanvas import MultiCanvas\n",
    "from ipywidgets import VBox, HBox\n",
    "\n",
    "from src.uebung_1.u_1_1 import einmassenschwinger\n",
    "\n",
    "# Create a canvas left\n",
    "scale_factor_width = 2\n",
    "scale_factor_height = 2\n",
    "\n",
    "n = 3\n",
    "width = 500\n",
    "height = 250\n",
    "canvas_left = MultiCanvas(n_canvases=n, width=width, height=height)\n",
    "\n",
    "for i in range(n):\n",
    "    # canvas_left[i].layout.width = f'{width}px'\n",
    "    # canvas_left[i].layout.height = f'{height}px'\n",
    "    canvas_left[i].scale(scale_factor_width, scale_factor_height/2)  \n",
    "    canvas_left[i].line_join = \"round\"\n",
    "    canvas_left[i].line_cap = \"round\"\n",
    "    # canvas_left[i].font = '10px Arial'\n",
    "    canvas_left[i].line_width = 1.0\n",
    "    \n",
    "\n",
    "# canvas_left[0].stroke_style = \"blue\"  # Outline color for canvas 1\n",
    "# canvas_left[0].stroke_rect(0, 0, canvas_left[1].width // 2, canvas_left[1].height)  # Draw border\n",
    "\n",
    "display(canvas_left)\n",
    "\n",
    "einmassenschwinger(canvas_left)\n",
    "\n",
    "canvas_left.layout.width = f'{width}px'\n",
    "canvas_left.layout.height = f'{height}px'\n"
   ]
  }
 ],
 "metadata": {
  "kernelspec": {
   "display_name": "venv",
   "language": "python",
   "name": "python3"
  },
  "language_info": {
   "codemirror_mode": {
    "name": "ipython",
    "version": 3
   },
   "file_extension": ".py",
   "mimetype": "text/x-python",
   "name": "python",
   "nbconvert_exporter": "python",
   "pygments_lexer": "ipython3",
   "version": "3.12.6"
  }
 },
 "nbformat": 4,
 "nbformat_minor": 2
}
