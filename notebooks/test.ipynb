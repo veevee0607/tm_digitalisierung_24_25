{
 "cells": [
  {
   "cell_type": "code",
   "execution_count": 14,
   "metadata": {},
   "outputs": [
    {
     "name": "stdout",
     "output_type": "stream",
     "text": [
      "The autoreload extension is already loaded. To reload it, use:\n",
      "  %reload_ext autoreload\n"
     ]
    },
    {
     "data": {
      "application/vnd.jupyter.widget-view+json": {
       "model_id": "8b6e2f6c747b4fee8993453512f6ee87",
       "version_major": 2,
       "version_minor": 0
      },
      "text/plain": [
       "MultiCanvas(height=300, width=600)"
      ]
     },
     "metadata": {},
     "output_type": "display_data"
    },
    {
     "ename": "KeyboardInterrupt",
     "evalue": "",
     "output_type": "error",
     "traceback": [
      "\u001b[1;31m---------------------------------------------------------------------------\u001b[0m",
      "\u001b[1;31mKeyboardInterrupt\u001b[0m                         Traceback (most recent call last)",
      "Cell \u001b[1;32mIn[14], line 54\u001b[0m\n\u001b[0;32m     51\u001b[0m \u001b[38;5;66;03m#container = HBox([canvas_left, canvas_right])\u001b[39;00m\n\u001b[0;32m     52\u001b[0m display(canvas_left)\n\u001b[1;32m---> 54\u001b[0m \u001b[43meinmassenschwinger\u001b[49m\u001b[43m(\u001b[49m\u001b[43mcanvas_left\u001b[49m\u001b[43m)\u001b[49m\n\u001b[0;32m     56\u001b[0m \u001b[38;5;28;01mwith\u001b[39;00m hold_canvas():\n\u001b[0;32m     57\u001b[0m     canvas_right\u001b[38;5;241m.\u001b[39mclear()  \n",
      "File \u001b[1;32mc:\\Users\\shredder\\VSCodeProjects\\tm_digitalisierung_ws_24\\notebooks\\src\\uebung_1\\u_1_1.py:41\u001b[0m, in \u001b[0;36meinmassenschwinger\u001b[1;34m(canvas)\u001b[0m\n\u001b[0;32m     28\u001b[0m make_frame(\n\u001b[0;32m     29\u001b[0m     canvas,\n\u001b[0;32m     30\u001b[0m     horizontal_start,\n\u001b[1;32m   (...)\u001b[0m\n\u001b[0;32m     37\u001b[0m     mid_point,\n\u001b[0;32m     38\u001b[0m )\n\u001b[0;32m     40\u001b[0m \u001b[38;5;66;03m# animate spring\u001b[39;00m\n\u001b[1;32m---> 41\u001b[0m \u001b[43manimate_spring_and_mass\u001b[49m\u001b[43m(\u001b[49m\u001b[43mcanvas\u001b[49m\u001b[43m,\u001b[49m\u001b[43m \u001b[49m\u001b[38;5;28;43mlist\u001b[39;49m\u001b[43m(\u001b[49m\u001b[43mmid_point\u001b[49m\u001b[43m)\u001b[49m\u001b[43m)\u001b[49m\n",
      "File \u001b[1;32mc:\\Users\\shredder\\VSCodeProjects\\tm_digitalisierung_ws_24\\notebooks\\src\\uebung_1\\u_1_1.py:144\u001b[0m, in \u001b[0;36manimate_spring_and_mass\u001b[1;34m(canvas, spring_anker_point)\u001b[0m\n\u001b[0;32m    141\u001b[0m     \u001b[38;5;28;01mwith\u001b[39;00m hold_canvas():\n\u001b[0;32m    142\u001b[0m         mass_obj\u001b[38;5;241m.\u001b[39manimate(canvas\u001b[38;5;241m=\u001b[39mcanvas[\u001b[38;5;241m2\u001b[39m], time_vec\u001b[38;5;241m=\u001b[39mt, pos_vec\u001b[38;5;241m=\u001b[39mpos)\n\u001b[1;32m--> 144\u001b[0m     \u001b[43mtime\u001b[49m\u001b[38;5;241;43m.\u001b[39;49m\u001b[43msleep\u001b[49m\u001b[43m(\u001b[49m\u001b[38;5;241;43m0.02\u001b[39;49m\u001b[43m)\u001b[49m\n\u001b[0;32m    145\u001b[0m pos_vec\u001b[38;5;241m.\u001b[39mreverse()\n",
      "\u001b[1;31mKeyboardInterrupt\u001b[0m: "
     ]
    }
   ],
   "source": [
    "%load_ext autoreload\n",
    "%autoreload 2\n",
    "\n",
    "from ipycanvas import Canvas, hold_canvas, MultiCanvas\n",
    "from ipywidgets import VBox, HBox\n",
    "import numpy as np\n",
    "import os, sys\n",
    "\n",
    "import sys\n",
    "# sys.path.append(r\"C:\\\\Users\\\\shredder\\\\VSCodeProjects\\\\tm_digitalisierung_ws_24\\\\notebooks\\\\src\\\\animation_modules\\\\shapes.py\")\n",
    "from src.uebung_1.u_1_1 import einmassenschwinger\n",
    "\n",
    "\n",
    "\n",
    "# Create a canvas left\n",
    "canvas_left = MultiCanvas(n_canvases=3, width=600, height=300)\n",
    "\n",
    "\n",
    "#canvas.line_width = 1.0\n",
    "# canvas.stroke_style = \"black\"\n",
    "canvas_left_1 = canvas_left[0]\n",
    "canvas_left_2 = canvas_left[1]\n",
    "canvas_left_3 = canvas_left[2]\n",
    "\n",
    "canvas_left_1.scale(2, 1)\n",
    "canvas_left_1.layout.width = \"100%\"\n",
    "canvas_left_1.layout.height = \"auto\"\n",
    "canvas_left_1.line_join = \"round\"\n",
    "canvas_left_1.line_cap = \"round\"\n",
    "#canvas_left_1.stroke_style = \"blue\"  # Outline color for canvas 1\n",
    "#canvas_left_1.stroke_rect(0, 0, canvas_left_1.width // 2, canvas_left_1.height)  # Draw border\n",
    "\n",
    "canvas_left_2.scale(2, 1)\n",
    "canvas_left_2.layout.width = \"100%\"\n",
    "canvas_left_2.layout.height = \"auto\"\n",
    "\n",
    "canvas_left_3.scale(2, 1)\n",
    "canvas_left_3.layout.width = \"100%\"\n",
    "canvas_left_3.layout.height = \"auto\"\n",
    "\n",
    "\n",
    "\n",
    "# create canvas right \n",
    "canvas_right = Canvas(width=400, height=200)\n",
    "# canvas.line_width = 1.0\n",
    "# canvas.stroke_style = \"black\"\n",
    "canvas_right.scale(2, 1)\n",
    "canvas_right.layout.width = \"100%\"\n",
    "canvas_right.layout.height = \"auto\"\n",
    "\n",
    "#container = HBox([canvas_left, canvas_right])\n",
    "display(canvas_left)\n",
    "\n",
    "einmassenschwinger(canvas_left)\n",
    "\n",
    "with hold_canvas():\n",
    "    canvas_right.clear()  \n",
    "    canvas_right.stroke_rect(20, 40, 50, 100)\n",
    "    #canvas_right.fill_rect(50, 50, 100, 100)  \n",
    "\n",
    "\n",
    "#display(container)\n",
    "#display(canvas_left)\n",
    "\n",
    "\n"
   ]
  }
 ],
 "metadata": {
  "kernelspec": {
   "display_name": "venv",
   "language": "python",
   "name": "python3"
  },
  "language_info": {
   "codemirror_mode": {
    "name": "ipython",
    "version": 3
   },
   "file_extension": ".py",
   "mimetype": "text/x-python",
   "name": "python",
   "nbconvert_exporter": "python",
   "pygments_lexer": "ipython3",
   "version": "3.12.6"
  }
 },
 "nbformat": 4,
 "nbformat_minor": 2
}
