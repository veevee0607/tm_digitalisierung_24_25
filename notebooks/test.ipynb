{
 "cells": [
  {
   "cell_type": "code",
   "execution_count": null,
   "metadata": {},
   "outputs": [],
   "source": [
    "%load_ext autoreload\n",
    "%autoreload 2\n",
    "\n",
    "from ipycanvas import Canvas, hold_canvas, MultiCanvas\n",
    "from ipywidgets import VBox, HBox\n",
    "import numpy as np\n",
    "import os, sys\n",
    "\n",
    "from src.uebung_1.u_1_1 import einmassenschwinger\n",
    "\n",
    "# Create a canvas left\n",
    "canvas_left = MultiCanvas(n_canvases=3, width=600, height=300)\n",
    "\n",
    "#canvas.line_width = 1.0\n",
    "# canvas.stroke_style = \"black\"\n",
    "canvas_left_1 = canvas_left[0]\n",
    "canvas_left_2 = canvas_left[1]\n",
    "canvas_left_3 = canvas_left[2]\n",
    "\n",
    "canvas_left_1.scale(2, 1)\n",
    "canvas_left_1.layout.width = \"100%\"\n",
    "canvas_left_1.layout.height = \"auto\"\n",
    "canvas_left_1.line_join = \"round\"\n",
    "canvas_left_1.line_cap = \"round\"\n",
    "#canvas_left_1.stroke_style = \"blue\"  # Outline color for canvas 1\n",
    "#canvas_left_1.stroke_rect(0, 0, canvas_left_1.width // 2, canvas_left_1.height)  # Draw border\n",
    "\n",
    "canvas_left_2.scale(2, 1)\n",
    "canvas_left_2.layout.width = \"100%\"\n",
    "canvas_left_2.layout.height = \"auto\"\n",
    "\n",
    "canvas_left_3.scale(2, 1)\n",
    "canvas_left_3.layout.width = \"100%\"\n",
    "canvas_left_3.layout.height = \"auto\"\n",
    "\n",
    "\n",
    "\n",
    "# create canvas right \n",
    "canvas_right = Canvas(width=400, height=200)\n",
    "# canvas.line_width = 1.0\n",
    "# canvas.stroke_style = \"black\"\n",
    "canvas_right.scale(2, 1)\n",
    "canvas_right.layout.width = \"100%\"\n",
    "canvas_right.layout.height = \"auto\"\n",
    "\n",
    "display(canvas_left)\n",
    "\n",
    "einmassenschwinger(canvas_left)\n",
    "\n",
    "# with hold_canvas():\n",
    "#     canvas_right.clear()  \n",
    "#     canvas_right.stroke_rect(20, 40, 50, 100)\n"
   ]
  }
 ],
 "metadata": {
  "kernelspec": {
   "display_name": "venv",
   "language": "python",
   "name": "python3"
  },
  "language_info": {
   "codemirror_mode": {
    "name": "ipython",
    "version": 3
   },
   "file_extension": ".py",
   "mimetype": "text/x-python",
   "name": "python",
   "nbconvert_exporter": "python",
   "pygments_lexer": "ipython3",
   "version": "3.12.6"
  }
 },
 "nbformat": 4,
 "nbformat_minor": 2
}
