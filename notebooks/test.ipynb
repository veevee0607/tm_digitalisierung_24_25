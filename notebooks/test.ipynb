{
 "cells": [
  {
   "cell_type": "code",
   "execution_count": 3,
   "metadata": {},
   "outputs": [
    {
     "name": "stdout",
     "output_type": "stream",
     "text": [
      "The autoreload extension is already loaded. To reload it, use:\n",
      "  %reload_ext autoreload\n"
     ]
    },
    {
     "data": {
      "application/vnd.jupyter.widget-view+json": {
       "model_id": "99462b1e89364dc89d2755742969dc45",
       "version_major": 2,
       "version_minor": 0
      },
      "text/plain": [
       "MultiCanvas(height=300, width=600)"
      ]
     },
     "metadata": {},
     "output_type": "display_data"
    },
    {
     "name": "stdout",
     "output_type": "stream",
     "text": [
      "canvas.width=600\n",
      "canvas.height=300\n",
      "vertical_end_point=(30.0, 255.0)\n"
     ]
    },
    {
     "ename": "KeyboardInterrupt",
     "evalue": "",
     "output_type": "error",
     "traceback": [
      "\u001b[1;31m---------------------------------------------------------------------------\u001b[0m",
      "\u001b[1;31mKeyboardInterrupt\u001b[0m                         Traceback (most recent call last)",
      "Cell \u001b[1;32mIn[3], line 50\u001b[0m\n\u001b[0;32m     39\u001b[0m \u001b[38;5;66;03m# create canvas right \u001b[39;00m\n\u001b[0;32m     40\u001b[0m \u001b[38;5;66;03m# canvas_right = Canvas(width=400, height=200)\u001b[39;00m\n\u001b[0;32m     41\u001b[0m \u001b[38;5;66;03m# # canvas.line_width = 1.0\u001b[39;00m\n\u001b[1;32m   (...)\u001b[0m\n\u001b[0;32m     44\u001b[0m \u001b[38;5;66;03m# canvas_right.layout.width = \"100%\"\u001b[39;00m\n\u001b[0;32m     45\u001b[0m \u001b[38;5;66;03m# canvas_right.layout.height = \"auto\"\u001b[39;00m\n\u001b[0;32m     48\u001b[0m display(canvas_left)\n\u001b[1;32m---> 50\u001b[0m \u001b[43meinmassenschwinger\u001b[49m\u001b[43m(\u001b[49m\u001b[43mcanvas_left\u001b[49m\u001b[43m)\u001b[49m\n\u001b[0;32m     52\u001b[0m canvas_left\u001b[38;5;241m.\u001b[39mlayout\u001b[38;5;241m.\u001b[39mwidth \u001b[38;5;241m=\u001b[39m \u001b[38;5;124mf\u001b[39m\u001b[38;5;124m'\u001b[39m\u001b[38;5;132;01m{\u001b[39;00mwidth\u001b[38;5;132;01m}\u001b[39;00m\u001b[38;5;124mpx\u001b[39m\u001b[38;5;124m'\u001b[39m\n\u001b[0;32m     53\u001b[0m canvas_left\u001b[38;5;241m.\u001b[39mlayout\u001b[38;5;241m.\u001b[39mheight \u001b[38;5;241m=\u001b[39m \u001b[38;5;124mf\u001b[39m\u001b[38;5;124m'\u001b[39m\u001b[38;5;132;01m{\u001b[39;00mheight\u001b[38;5;132;01m}\u001b[39;00m\u001b[38;5;124mpx\u001b[39m\u001b[38;5;124m'\u001b[39m\n",
      "File \u001b[1;32mc:\\Users\\shredder\\VSCodeProjects\\tm_digitalisierung_ws_24\\notebooks\\src\\uebung_1\\u_1_1.py:55\u001b[0m, in \u001b[0;36meinmassenschwinger\u001b[1;34m(canvas)\u001b[0m\n\u001b[0;32m     52\u001b[0m canvas[\u001b[38;5;241m0\u001b[39m]\u001b[38;5;241m.\u001b[39mfill_text(text\u001b[38;5;241m=\u001b[39m\u001b[38;5;124m\"\u001b[39m\u001b[38;5;124mc\u001b[39m\u001b[38;5;124m\"\u001b[39m, x\u001b[38;5;241m=\u001b[39mmid_point[\u001b[38;5;241m0\u001b[39m] \u001b[38;5;241m+\u001b[39m \u001b[38;5;241m10\u001b[39m, y\u001b[38;5;241m=\u001b[39mmid_point[\u001b[38;5;241m1\u001b[39m] \u001b[38;5;241m-\u001b[39m \u001b[38;5;241m30\u001b[39m)\n\u001b[0;32m     54\u001b[0m \u001b[38;5;66;03m# animate spring\u001b[39;00m\n\u001b[1;32m---> 55\u001b[0m \u001b[43manimate_spring_and_mass\u001b[49m\u001b[43m(\u001b[49m\u001b[43mcanvas\u001b[49m\u001b[43m,\u001b[49m\u001b[43m \u001b[49m\u001b[38;5;28;43mlist\u001b[39;49m\u001b[43m(\u001b[49m\u001b[43mline_endpoint\u001b[49m\u001b[43m)\u001b[49m\u001b[43m)\u001b[49m\n",
      "File \u001b[1;32mc:\\Users\\shredder\\VSCodeProjects\\tm_digitalisierung_ws_24\\notebooks\\src\\uebung_1\\u_1_1.py:180\u001b[0m, in \u001b[0;36manimate_spring_and_mass\u001b[1;34m(canvas, spring_anker_point)\u001b[0m\n\u001b[0;32m    177\u001b[0m     \u001b[38;5;28;01mwith\u001b[39;00m hold_canvas():\n\u001b[0;32m    178\u001b[0m         mass_obj\u001b[38;5;241m.\u001b[39manimate(canvas\u001b[38;5;241m=\u001b[39mcanvas[\u001b[38;5;241m2\u001b[39m], time_vec\u001b[38;5;241m=\u001b[39mt, pos_vec\u001b[38;5;241m=\u001b[39mpos)\n\u001b[1;32m--> 180\u001b[0m     \u001b[43mtime\u001b[49m\u001b[38;5;241;43m.\u001b[39;49m\u001b[43msleep\u001b[49m\u001b[43m(\u001b[49m\u001b[38;5;241;43m0.01\u001b[39;49m\u001b[43m)\u001b[49m\n\u001b[0;32m    182\u001b[0m pos_vec\u001b[38;5;241m.\u001b[39mreverse()\n",
      "\u001b[1;31mKeyboardInterrupt\u001b[0m: "
     ]
    }
   ],
   "source": [
    "%load_ext autoreload\n",
    "%autoreload 2\n",
    "\n",
    "from ipycanvas import Canvas, hold_canvas, MultiCanvas\n",
    "from ipywidgets import VBox, HBox\n",
    "import numpy as np\n",
    "import os, sys\n",
    "\n",
    "from src.uebung_1.u_1_1 import einmassenschwinger\n",
    "from src.animation_modules.shapes import Rectangle\n",
    "\n",
    "# Create a canvas left\n",
    "scale_factor_width = 2\n",
    "scale_factor_height = 2\n",
    "\n",
    "n = 4\n",
    "width = 600\n",
    "height = 300\n",
    "canvas_left = MultiCanvas(n_canvases=n, width=width, height=height)\n",
    "\n",
    "for i in range(n):\n",
    "    # canvas_left[i].layout.width = f'{width}px'\n",
    "    # canvas_left[i].layout.height = f'{height}px'\n",
    "    canvas_left[i].scale(scale_factor_width, scale_factor_height/2)  \n",
    "    canvas_left[i].line_join = \"round\"\n",
    "    canvas_left[i].line_cap = \"round\"\n",
    "    canvas_left[i].font = '10px Arial'\n",
    "\n",
    "    \n",
    "    canvas_left[i].line_width = 1.0\n",
    "    \n",
    "\n",
    "\n",
    "# canvas_left_1.layout.width = \"100%\"\n",
    "# canvas_left_1.layout.height = \"auto\"\n",
    "canvas_left[0].stroke_style = \"blue\"  # Outline color for canvas 1\n",
    "canvas_left[0].stroke_rect(0, 0, canvas_left[1].width // 2, canvas_left[1].height)  # Draw border\n",
    "\n",
    "# create canvas right \n",
    "# canvas_right = Canvas(width=400, height=200)\n",
    "# # canvas.line_width = 1.0\n",
    "# # canvas.stroke_style = \"black\"\n",
    "# canvas_right.scale(2, 1)\n",
    "# canvas_right.layout.width = \"100%\"\n",
    "# canvas_right.layout.height = \"auto\"\n",
    "\n",
    "\n",
    "display(canvas_left)\n",
    "\n",
    "einmassenschwinger(canvas_left)\n",
    "\n",
    "canvas_left.layout.width = f'{width}px'\n",
    "canvas_left.layout.height = f'{height}px'\n",
    "\n",
    "# with hold_canvas():\n",
    "#     canvas_right.clear()  \n",
    "#     canvas_right.stroke_rect(20, 40, 50, 100)\n",
    "\n",
    "\n",
    "# test_canvas = Canvas(width=400, height=200)\n",
    "# mass_obj = Rectangle(\n",
    "#     center=(100, 100),\n",
    "#     width=100,\n",
    "#     height=50,\n",
    "#     upper_left_corner=(100, 100),\n",
    "# )\n",
    "\n",
    "# display(test_canvas)\n"
   ]
  }
 ],
 "metadata": {
  "kernelspec": {
   "display_name": "venv",
   "language": "python",
   "name": "python3"
  },
  "language_info": {
   "codemirror_mode": {
    "name": "ipython",
    "version": 3
   },
   "file_extension": ".py",
   "mimetype": "text/x-python",
   "name": "python",
   "nbconvert_exporter": "python",
   "pygments_lexer": "ipython3",
   "version": "3.12.6"
  }
 },
 "nbformat": 4,
 "nbformat_minor": 2
}
