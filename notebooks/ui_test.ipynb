{
 "cells": [
  {
   "cell_type": "code",
   "execution_count": 10,
   "metadata": {},
   "outputs": [
    {
     "data": {
      "application/vnd.jupyter.widget-view+json": {
       "model_id": "9ed5cf79c3da42a083f7c2097bfb2ccd",
       "version_major": 2,
       "version_minor": 0
      },
      "text/plain": [
       "HBox(children=(VBox(children=(VBox(children=(IntSlider(value=7, continuous_update=False, description='c', layo…"
      ]
     },
     "metadata": {},
     "output_type": "display_data"
    }
   ],
   "source": [
    "from ipycanvas import Canvas, MultiCanvas\n",
    "import ipywidgets.widgets as widgets\n",
    "from ipywidgets import HBox, VBox\n",
    "import time\n",
    "import threading\n",
    "\n",
    "# Define widgets\n",
    "#title_widget = widgets.HTML('<strong style=\"font-family: Arial, sans-serif;\">Variables</strong>')\n",
    "\n",
    "slider_d = widgets.IntSlider(\n",
    "    value=7,\n",
    "    min=0,\n",
    "    max=10,\n",
    "    step=1,\n",
    "    description='d',\n",
    "    continuous_update=False,\n",
    "    orientation='horizontal',\n",
    "    readout=True,\n",
    "    readout_format='d',\n",
    "    align_conten='flex-start'\n",
    ")\n",
    "\n",
    "slider_c = widgets.IntSlider(\n",
    "    value=7,\n",
    "    min=0,\n",
    "    max=10,\n",
    "    step=1,\n",
    "    description='c',\n",
    "    continuous_update=False,\n",
    "    orientation='horizontal',\n",
    "    readout=True,\n",
    "    readout_format='d',\n",
    "    layout=widgets.Layout(\n",
    "        position= 'absolute',\n",
    "        right= '0px',\n",
    "        width='30px',\n",
    "        border= '3px solid #73AD21',\n",
    "        padding='10px')\n",
    "\n",
    "# )\n",
    ")\n",
    "\n",
    "# Inner VBox for sliders with a blue border\n",
    "vbox_int_sliders = VBox([slider_c, slider_d], layout=widgets.Layout(\n",
    "    width='100%', \n",
    "    border='2px solid blue', \n",
    "    padding='10px',\n",
    "))\n",
    "\n",
    "# Canvas with red border\n",
    "canvas_bottom_left = Canvas(width=100, height=150)\n",
    "vbox_canvas = VBox([canvas_bottom_left], layout=widgets.Layout(\n",
    "    border='2px solid red', \n",
    "    padding='10px'\n",
    "))\n",
    "\n",
    "# Outer left VBox with green border\n",
    "vbox_left = VBox([vbox_int_sliders, vbox_canvas], layout=widgets.Layout(\n",
    "    border='2px solid green',\n",
    "    padding='10px'\n",
    "))\n",
    "\n",
    "# Right canvas for display with yellow border\n",
    "canvas_right = MultiCanvas(width=500, height=300)\n",
    "vbox_right = VBox([canvas_right], layout=widgets.Layout(\n",
    "    border='2px solid yellow', \n",
    "    padding='10px'\n",
    "))\n",
    "\n",
    "# Combine both VBoxes in an HBox container with purple border\n",
    "container = HBox([vbox_left, vbox_right], layout=widgets.Layout(\n",
    "    border='2px solid purple', \n",
    "    padding='10px'\n",
    "))\n",
    "\n",
    "# Display the container\n",
    "display(container)\n",
    "\n",
    "# Function to print slider value every 2 seconds\n",
    "# def print_value():\n",
    "#     while True:\n",
    "#         print(\"Slider C Value:\", slider_c.value)\n",
    "#         time.sleep(2)\n",
    "\n",
    "# Start a separate thread for printing the slider's value\n",
    "# thread = threading.Thread(target=print_value, daemon=True)\n",
    "# thread.start()\n"
   ]
  }
 ],
 "metadata": {
  "kernelspec": {
   "display_name": "venv",
   "language": "python",
   "name": "python3"
  },
  "language_info": {
   "codemirror_mode": {
    "name": "ipython",
    "version": 3
   },
   "file_extension": ".py",
   "mimetype": "text/x-python",
   "name": "python",
   "nbconvert_exporter": "python",
   "pygments_lexer": "ipython3",
   "version": "3.12.6"
  }
 },
 "nbformat": 4,
 "nbformat_minor": 2
}
