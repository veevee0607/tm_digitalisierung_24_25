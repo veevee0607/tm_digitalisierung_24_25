{
 "cells": [
  {
   "cell_type": "code",
   "execution_count": 1,
   "metadata": {},
   "outputs": [
    {
     "data": {
      "application/vnd.jupyter.widget-view+json": {
       "model_id": "0e619c1da3414c22813d1c1b7fe816c0",
       "version_major": 2,
       "version_minor": 0
      },
      "text/plain": [
       "AppLayout(children=(GridspecLayout(children=(GridspecLayout(children=(HTML(value='<strong style=\"font-family: …"
      ]
     },
     "metadata": {},
     "output_type": "display_data"
    },
    {
     "name": "stdout",
     "output_type": "stream",
     "text": [
      "self.c=None\n",
      "self.d=None\n",
      "self.c=None\n",
      "self.d=None\n",
      "self.c=4\n",
      "self.d=None\n",
      "self.c=4\n",
      "self.d=None\n",
      "self.c=4\n",
      "self.d=2\n",
      "self.c=4\n",
      "self.d=2\n",
      "self.c=4\n",
      "self.d=5\n"
     ]
    }
   ],
   "source": [
    "%load_ext autoreload\n",
    "%autoreload 2\n",
    "from src.interactive_modules.interactive_ui import make_interactive_ui\n",
    "\n",
    "app_layout = make_interactive_ui()\n",
    "display(app_layout)"
   ]
  }
 ],
 "metadata": {
  "kernelspec": {
   "display_name": "venv",
   "language": "python",
   "name": "python3"
  },
  "language_info": {
   "codemirror_mode": {
    "name": "ipython",
    "version": 3
   },
   "file_extension": ".py",
   "mimetype": "text/x-python",
   "name": "python",
   "nbconvert_exporter": "python",
   "pygments_lexer": "ipython3",
   "version": "3.12.6"
  }
 },
 "nbformat": 4,
 "nbformat_minor": 2
}
